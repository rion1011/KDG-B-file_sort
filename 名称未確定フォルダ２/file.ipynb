{
 "cells": [
  {
   "cell_type": "code",
   "execution_count": null,
   "metadata": {},
   "outputs": [],
   "source": [
    "import os\n",
    "from datetime import datetime\n",
    "import shutil\n",
    "from glob import glob\n",
    "\n",
    "file_paths = glob('memo/*.txt') \n",
    "for file_path in file_paths:\n",
    "\n",
    "       stat = os.stat(file_path)\n",
    "\n",
    "       created_time = stat.st_birthtime\n",
    "\n",
    "       created_time = datetime.fromtimestamp(created_time)\n",
    "\n",
    "       year = created_time.year\n",
    "\n",
    "       month = created_time.month\n",
    "\n",
    "       day = created_time.day\n",
    "\n",
    "       file_name = file_path.split('/')[1] \n",
    "       new_file_name = f'{year}年{month}月{day}日_{file_name}' \n",
    "       os.rename(file_path, f'memo/{new_file_name}')\n",
    "\n",
    "       new_dir = f'interview/{year}年/{month}月' \n",
    "       if not os.path.exists(new_dir):\n",
    "              os.makedirs(new_dir) \n",
    "\n",
    "       dest = f'interview/{year}年/{month}月/{new_file_name}'\n",
    "\n",
    "       shutil.move(f'memo/{new_file_name}', dest)"
   ]
  },
  {
   "cell_type": "code",
   "execution_count": 67,
   "metadata": {},
   "outputs": [],
   "source": [
    "file_path = 'memo/ユージ.txt'"
   ]
  },
  {
   "cell_type": "code",
   "execution_count": 68,
   "metadata": {},
   "outputs": [],
   "source": [
    "import os"
   ]
  },
  {
   "cell_type": "code",
   "execution_count": 69,
   "metadata": {},
   "outputs": [
    {
     "name": "stdout",
     "output_type": "stream",
     "text": [
      "2025-07-25 10:58:08\n"
     ]
    }
   ],
   "source": [
    "stat = os.stat(file_path)\n",
    "created_time =stat.st_birthtime\n",
    "\n",
    "from datetime import datetime\n",
    "\n",
    "print(datetime.fromtimestamp(created_time))"
   ]
  },
  {
   "cell_type": "code",
   "execution_count": null,
   "metadata": {},
   "outputs": [],
   "source": []
  }
 ],
 "metadata": {
  "kernelspec": {
   "display_name": "Python 3",
   "language": "python",
   "name": "python3"
  },
  "language_info": {
   "codemirror_mode": {
    "name": "ipython",
    "version": 3
   },
   "file_extension": ".py",
   "mimetype": "text/x-python",
   "name": "python",
   "nbconvert_exporter": "python",
   "pygments_lexer": "ipython3",
   "version": "3.12.4"
  }
 },
 "nbformat": 4,
 "nbformat_minor": 2
}
